{
 "metadata": {
  "language_info": {
   "codemirror_mode": {
    "name": "ipython",
    "version": 3
   },
   "file_extension": ".py",
   "mimetype": "text/x-python",
   "name": "python",
   "nbconvert_exporter": "python",
   "pygments_lexer": "ipython3",
   "version": "3.8.7-final"
  },
  "orig_nbformat": 2,
  "kernelspec": {
   "name": "python38664bitvenvvenv2ab0f4965cf24ff6a189fc0d3bfff2ec",
   "display_name": "Python 3.8.6 64-bit ('venv': venv)",
   "language": "python"
  }
 },
 "nbformat": 4,
 "nbformat_minor": 2,
 "cells": [
  {
   "source": [
    "# Úloha č. 2: Test hypotézy\n",
    "\n",
    "Autor: *Natália Holková*\n",
    "\n",
    "Login: *xholko02*\n",
    "\n"
   ],
   "cell_type": "markdown",
   "metadata": {}
  },
  {
   "source": [
    "## Zadanie\n",
    "\n",
    "Overte nasledujúcu hypotézu s 95% istotou:\n",
    "\n",
    "*Pokiaľ bol vinník nehody pod silným vplyvom alkoholu, došlo častejšie k ťažkým zdravotným následkom.*\n",
    "\n",
    "Využite **$\\chi^2$** test."
   ],
   "cell_type": "markdown",
   "metadata": {}
  },
  {
   "cell_type": "code",
   "execution_count": null,
   "metadata": {},
   "outputs": [],
   "source": [
    "###\n",
    "import pandas as pd\n",
    "import matplotlib.pyplot as plt\n",
    "import numpy as np\n",
    "from scipy.stats import chi2_contingency\n",
    "from scipy.stats import chi2"
   ]
  },
  {
   "source": [
    "## Načítanie a vyčistenie dát"
   ],
   "cell_type": "markdown",
   "metadata": {}
  },
  {
   "cell_type": "code",
   "execution_count": null,
   "metadata": {},
   "outputs": [],
   "source": [
    "# Načítanie dát\n",
    "df = pd.read_pickle(\"accidents.pkl.gz\")"
   ]
  },
  {
   "source": [
    "### Štruktúra stĺpcov *p11*, *p13a* a *p13b*\n",
    "\n",
    "#### *p11*\n",
    "Predstavuje prítomnosť alkoholu u vinníka nehody. Povolené sú celé čísla z intervalu **<0,9>**.\n",
    "\n",
    "| Hodnota | Alkohol |\n",
    "|---|---|\n",
    "| 0 | nezisťované |\n",
    "| 1 | áno, < 0.24 ‰ |\n",
    "| 2 | nie |\n",
    "| 3 | áno, >= 0.24 & < 0.5 ‰ |\n",
    "| 4 | pod vplyvom drog |\n",
    "| 5 | pod vplyvom alkoholu a drog |\n",
    "| 6 | áno, >= 0.5 & < 0.8 ‰ |\n",
    "| 7 | áno, >= 0.8 & < 1.0 ‰ |\n",
    "| 8 | áno, >= 1.0 & < 1.5 ‰ |\n",
    "| 9 | áno, >= 1.5 ‰ |\n",
    "\n",
    "Za silný vplyv alkoholu budeme považovať iba stavy, keď ***p11* >= 7 ** a vylúčime nehody pod vplyvom drog (***p11* = 4** a ***p11* = 5**).\n",
    "\n",
    "\n",
    "#### *p13a*\n",
    "Predstavuje počet osôb, ktoré boli usmrtené pri nehode.\n",
    "Hodnota musí byť celé číslo **>= 0**.\n",
    "\n",
    "#### *p13b*\n",
    "Predstavuje počet osôb, ktoré boli ťažko zranené pri nehode.\n",
    "Hodnota musí byť celé číslo **>= 0**."
   ],
   "cell_type": "markdown",
   "metadata": {}
  },
  {
   "source": [
    "Z celého datasetu vylúčime nehody pod vplyvom drog. "
   ],
   "cell_type": "markdown",
   "metadata": {}
  },
  {
   "cell_type": "code",
   "execution_count": null,
   "metadata": {},
   "outputs": [],
   "source": [
    "df = df.query('p11 >= 0 & p11 <= 9 & p11 != 4 & p11 != 5')"
   ]
  },
  {
   "source": [
    "## $\\chi^2$ test\n",
    "\n",
    "Urobíme binarizáciu premenných.\n",
    "\n",
    "Vytvoríme nový DataFrame s informáciou či bol vinník pod silným vplyvom alkoholu (*p11 >= 7*) a ku koľkým ťažkým zdravotným následkom došlo (*p13a + p13b*)."
   ],
   "cell_type": "markdown",
   "metadata": {}
  },
  {
   "cell_type": "code",
   "execution_count": null,
   "metadata": {},
   "outputs": [],
   "source": [
    "# binarizácia\n",
    "df_bis = pd.DataFrame({\n",
    "          'strong_alcohol_influence': (df['p11'] >= 7).astype(int),\n",
    "          'total_serious_injuries': df['p13a'] + df['p13b']\n",
    "         }).dropna()  # vyradiť prázdne"
   ]
  },
  {
   "source": [
    "Vytvoríme kontingenčnú tabulku."
   ],
   "cell_type": "markdown",
   "metadata": {}
  },
  {
   "cell_type": "code",
   "execution_count": null,
   "metadata": {},
   "outputs": [],
   "source": [
    "# kontingenčná tabulka\n",
    "ct = pd.crosstab(df_bis['strong_alcohol_influence'], df_bis['total_serious_injuries'])\n",
    "ct ###"
   ]
  },
  {
   "source": [
    "Spočítame chí-kvadrát štatistiku a p-hodnotu pre test nezávislosti v kontingenčnej tabulke. Táto funkcia vráti viac hodnot, nás zaujímá druhá hodnota (p-hodnota)."
   ],
   "cell_type": "markdown",
   "metadata": {}
  },
  {
   "cell_type": "code",
   "execution_count": null,
   "metadata": {},
   "outputs": [],
   "source": [
    "stat, p, dof, expected = chi2_contingency(ct)\n",
    "print(f'p = {p}') # p-hodnota"
   ]
  },
  {
   "source": [
    "p-hodnota je pravdepodobnosť získania výsledkov minimálne tak extrémnych, ako sú pozorované výsledky testu štatistických hypotéz, za predpokladu, že nulová hypotéza je správna.\n",
    "\n",
    "p-hodnota je miera pravdepodobnosti, že by sa pozorovaný rozdiel mohol vyskytnúť iba náhodou. Čím je nižšia p-hodnota, tý je väčšia štatistická významnosť pozorovaného rozdielu.\n"
   ],
   "cell_type": "markdown",
   "metadata": {}
  },
  {
   "cell_type": "code",
   "execution_count": null,
   "metadata": {},
   "outputs": [],
   "source": [
    "# interpretovať p-hodnotu\n",
    "prob = 0.95 # 95% istota\n",
    "alpha = 1.0 - prob\n",
    "if p <= alpha:\n",
    "\tprint('Zamietnuť nulovú hypotézu')\n",
    "else:\n",
    "\tprint('Nepodarilo sa zamietnuť nulovú hypotézu')"
   ]
  },
  {
   "source": [
    "## Záver\n",
    "\n",
    "Na základe výsledkov sme vyvrátili sme nulovú hypotézu."
   ],
   "cell_type": "markdown",
   "metadata": {}
  }
 ]
}